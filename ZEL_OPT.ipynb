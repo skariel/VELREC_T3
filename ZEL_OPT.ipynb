{
 "cells": [
  {
   "cell_type": "code",
   "execution_count": 1,
   "metadata": {
    "collapsed": true
   },
   "outputs": [
    {
     "name": "stderr",
     "output_type": "stream",
     "text": [
      "WARNING: Method definition info(Any...) in module Base at util.jl:334 overwritten in module Logging at /home/skariel/.julia/v0.4/Logging/src/Logging.jl:61.\n",
      "WARNING: Method definition warn(Any...) in module Base at util.jl:364 overwritten in module Logging at /home/skariel/.julia/v0.4/Logging/src/Logging.jl:61.\n",
      "WARNING: Method definition info(Any...) in module Base at util.jl:334 overwritten in module Logging at /home/skariel/.julia/v0.4/Logging/src/Logging.jl:61.\n",
      "WARNING: Method definition warn(Any...) in module Base at util.jl:364 overwritten in module Logging at /home/skariel/.julia/v0.4/Logging/src/Logging.jl:61.\n",
      "WARNING: Method definition info(Any...) in module Base at util.jl:334 overwritten in module Logging at /home/skariel/.julia/v0.4/Logging/src/Logging.jl:61.\n",
      "WARNING: Method definition warn(Any...) in module Base at util.jl:364 overwritten in module Logging at /home/skariel/.julia/v0.4/Logging/src/Logging.jl:61.\n",
      "WARNING: Method definition info(Any...) in module Base at util.jl:334 overwritten in module Logging at /home/skariel/.julia/v0.4/Logging/src/Logging.jl:61.\n",
      "WARNING: Method definition info(Any...) in module Base at util.jl:334 overwritten in module Logging at /home/skariel/.julia/v0.4/Logging/src/Logging.jl:61.\n",
      "WARNING: Method definition warn(Any...) in module Base at util.jl:364 overwritten in module Logging at /home/skariel/.julia/v0.4/Logging/src/Logging.jl:61.\n",
      "WARNING: Method definition info(Any...) in module Base at util.jl:334 overwritten in module Logging at /home/skariel/.julia/v0.4/Logging/src/Logging.jl:61.\n",
      "WARNING: Method definition warn(Any...) in module Base at util.jl:364 overwritten in module Logging at /home/skariel/.julia/v0.4/Logging/src/Logging.jl:61.\n",
      "WARNING: Method definition warn(Any...) in module Base at util.jl:364 overwritten in module Logging at /home/skariel/.julia/v0.4/Logging/src/Logging.jl:61.\n",
      "WARNING: Method definition info(Any...) in module Base at util.jl:334 overwritten in module Logging at /home/skariel/.julia/v0.4/Logging/src/Logging.jl:61WARNING: Method definition info(Any...) in module Base at util.jl:334 overwritten in module Logging at /home/skariel/.julia/v0.4/Logging/src/Logging.jl:61.\n",
      ".\n",
      "WARNING: Method definition warn(Any...) in module Base at util.jl:364 overwritten in module Logging at /home/skariel/.julia/v0.4/Logging/src/Logging.jl:61.\n",
      "WARNING: Method definition warn(Any...) in module Base at util.jl:364 overwritten in module Logging at /home/skariel/.julia/v0.4/Logging/src/Logging.jl:61.\n",
      "WARNING: Method definition info(Any...) in module Base at util.jl:334 overwritten in module Logging at /home/skariel/.julia/v0.4/Logging/src/Logging.jl:61.\n",
      "WARNING: Method definition warn(Any...) in module Base at util.jl:364 overwritten in module Logging at /home/skariel/.julia/v0.4/Logging/src/Logging.jl:61.\n",
      "WARNING: requiring \"Dates\" in module \"Winston\" did not define a corresponding module.\n",
      "WARNING: module Winston should explicitly import * from Base\n",
      "WARNING: requiring \"Dates\" in module \"Winston\" did not define a corresponding module.\n",
      "WARNING: requiring \"Dates\" in module \"Winston\" did not define a corresponding module.\n",
      "WARNING: requiring \"Dates\" in module \"Winston\" did not define a corresponding module.\n",
      "WARNING: requiring \"Dates\" in module \"Winston\" did not define a corresponding module.\n",
      "WARNING: requiring \"Dates\" in module \"Winston\" did not define a corresponding module.\n",
      "WARNING: requiring \"Dates\" in module \"Winston\" did not define a corresponding module.\n",
      "WARNING: requiring \"Dates\" in module \"Winston\" did not define a corresponding module.\n",
      "WARNING: requiring \"Dates\" in module \"Winston\" did not define a corresponding module.\n",
      "WARNING: module Winston should explicitly import * from Base\n",
      "WARNING: module Winston should explicitly import * from Base\n",
      "WARNING: module Winston should explicitly import * from Base\n",
      "WARNING: module Winston should explicitly import * from Base\n",
      "WARNING: module Winston should explicitly import * from Base\n",
      "WARNING: module Winston should explicitly import * from Base\n",
      "WARNING: module Winston should explicitly import * from Base\n",
      "WARNING: module Winston should explicitly import * from Base\n",
      "16-פבר 15:17:40:INFO:root:N=74293025 min(m)=46.538624 max(m)=959026.75\n",
      "16-פבר 15:17:40:INFO:root:rescaling masses\n",
      "16-פבר 15:17:41:INFO:root:N=74293025 min(m)=50.036606 max(m)=1.0311101e6\n"
     ]
    }
   ],
   "source": [
    "include(\"jl/init_default.jl\");"
   ]
  },
  {
   "cell_type": "code",
   "execution_count": 2,
   "metadata": {
    "collapsed": false
   },
   "outputs": [
    {
     "name": "stderr",
     "output_type": "stream",
     "text": [
      "WARNING: redefining constant RAW_DS_FN\n"
     ]
    }
   ],
   "source": [
    "include(\"jl/all.jl\")\n",
    "pop_realization()"
   ]
  },
  {
   "cell_type": "code",
   "execution_count": 3,
   "metadata": {
    "collapsed": true
   },
   "outputs": [],
   "source": [
    "opos_i = SharedArray(Float32, size(pos));"
   ]
  },
  {
   "cell_type": "code",
   "execution_count": 4,
   "metadata": {
    "collapsed": true
   },
   "outputs": [],
   "source": [
    "opos_i.s[:,:] = pos.s[:,:];"
   ]
  },
  {
   "cell_type": "code",
   "execution_count": 5,
   "metadata": {
    "collapsed": false
   },
   "outputs": [
    {
     "name": "stderr",
     "output_type": "stream",
     "text": [
      "16-פבר 15:17:50:INFO:root:optzel start a_from=0.3 a_to=1.0 end_meandx=400.0fracmov=0.15\n",
      "16-פבר 15:17:51:INFO:root:simzel start from a=0.3 to a=1.0\n",
      "16-פבר 15:18:13:INFO:root:simzel dim 1\n",
      "16-פבר 15:18:21:INFO:root:simzel dim 2\n",
      "16-פבר 15:18:29:INFO:root:simzel dim 3\n",
      "16-פבר 15:18:37:INFO:root:simzel end\n",
      "16-פבר 15:18:37:INFO:root:optzel step=1 mdx=3975.5632\n"
     ]
    },
    {
     "ename": "LoadError",
     "evalue": "LoadError: On worker 2:\nUndefVarError: _s_pos not defined\n in _move_opos_i_inregards_to_pushed_target_single_worker! at /home/skariel/Desktop/VELREC_T3/jl/optimization.jl:15\n in anonymous at multi.jl:920\n in run_work_thunk at multi.jl:651\n in run_work_thunk at multi.jl:660\n in anonymous at task.jl:58\n in remotecall_wait at multi.jl:754\n in remotecall_wait at multi.jl:758\n in anonymous at task.jl:447\n\n...and 7 other exceptions.\n\nwhile loading In[5], in expression starting on line 1",
     "output_type": "error",
     "traceback": [
      "LoadError: On worker 2:\nUndefVarError: _s_pos not defined\n in _move_opos_i_inregards_to_pushed_target_single_worker! at /home/skariel/Desktop/VELREC_T3/jl/optimization.jl:15\n in anonymous at multi.jl:920\n in run_work_thunk at multi.jl:651\n in run_work_thunk at multi.jl:660\n in anonymous at task.jl:58\n in remotecall_wait at multi.jl:754\n in remotecall_wait at multi.jl:758\n in anonymous at task.jl:447\n\n...and 7 other exceptions.\n\nwhile loading In[5], in expression starting on line 1",
      "",
      " in sync_end at ./task.jl:413",
      " [inlined code] from task.jl:422",
      " in _move_opos_i_inregards_to_pushed_target! at /home/skariel/Desktop/VELREC_T3/jl/optimization.jl:21",
      " in optimize_zeld_vs_pushed_pos! at /home/skariel/Desktop/VELREC_T3/jl/optimization.jl:42",
      " in optimize_zeld_vs_pushed_pos! at /home/skariel/Desktop/VELREC_T3/jl/optimization.jl:30"
     ]
    }
   ],
   "source": [
    "optimize_zeld_vs_pushed_pos!(rho, opos_i, pos, m, 0.3, 1.0);"
   ]
  },
  {
   "cell_type": "code",
   "execution_count": null,
   "metadata": {
    "collapsed": true
   },
   "outputs": [],
   "source": []
  }
 ],
 "metadata": {
  "kernelspec": {
   "display_name": "Julia 0.4.1",
   "language": "julia",
   "name": "julia-0.4"
  },
  "language_info": {
   "file_extension": ".jl",
   "mimetype": "application/julia",
   "name": "julia",
   "version": "0.4.3"
  }
 },
 "nbformat": 4,
 "nbformat_minor": 0
}
