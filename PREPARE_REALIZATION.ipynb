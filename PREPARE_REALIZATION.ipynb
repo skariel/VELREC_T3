{
 "cells": [
  {
   "cell_type": "code",
   "execution_count": 1,
   "metadata": {
    "collapsed": false
   },
   "outputs": [
    {
     "name": "stderr",
     "output_type": "stream",
     "text": [
      "WARNING: requiring \"Dates\" in module \"Winston\" did not define a corresponding module.\n",
      "WARNING: module Winston should explicitly import * from Base\n"
     ]
    }
   ],
   "source": [
    "include(\"jl/all.jl\");"
   ]
  },
  {
   "cell_type": "code",
   "execution_count": 2,
   "metadata": {
    "collapsed": false
   },
   "outputs": [
    {
     "name": "stdout",
     "output_type": "stream",
     "text": [
      "# SDF 1.0\n",
      "int header_len =  1216;\n",
      "parameter byteorder = 0x78563412;\n",
      "int64_t nhalo = 274158149;\n",
      "float particle_mass = 4.88088986e+09;\n",
      "float part_mass = 4.88088986e+09;\n",
      "double BOX_SIZE = 1600;\n",
      "double L0 = 1600;\n",
      "double R0 = 800;\n",
      "int offset_center = 1;\n",
      "double redshift = 0;\n",
      "double tpos = 13.75891400396503;\n",
      "double overdensity = 200;\n",
      "double SCALE_NOW = 1;\n",
      "double a = 1;\n",
      "int do_periodic = 1;\n",
      "float x_min = 0;\n",
      "float y_min = 0;\n",
      "float z_min = 0;\n",
      "float x_max = 1600;\n",
      "float y_max = 1600;\n",
      "float z_max = 1600;\n",
      "double Omega0_m = 0.295126;\n",
      "double Omega0_lambda = 0.704874;\n",
      "double h_100 = 0.688062;\n",
      "int so200b = 1;\n",
      "int rockstar_units = 1;\n",
      "int morton_xyz = 1;\n",
      "char length_unit[] = \"Mpccm/h\";\n",
      "char mass_unit[] = \"Msun/h\";\n",
      "char time_unit[] = \"Gyr\";\n",
      "char velocity_unit[] = \"km/s\";\n",
      "char compiled_version_2HOT[] = \"2HOT-1.1.0-59-ge252469\";\n",
      "char compiled_date_2HOT[] = \"Jun 12 2014\";\n",
      "char compiled_time_2HOT[] = \"19:54:08\";\n",
      "int sha1_chunks = 64;\n",
      "struct {\n",
      "unsigned int sha1_len;\n",
      "unsigned char sha1[20];\n",
      "}[64];\n",
      "struct {\n",
      "float x, y, z;\n",
      "float vx, vy, vz;\n",
      "float mvir, m200b, m200c, m500c, m2500c;\n",
      "float vmax, rvmax, r200b, spin, kin_to_pot;\n",
      "int64_t id, pid;\n",
      "}[274158149];\n",
      "#\n",
      "# SDF-EOH\n"
     ]
    },
    {
     "ename": "LoadError",
     "evalue": "LoadError: UnicodeError: invalid character index\nwhile loading In[2], in expression starting on line 1",
     "output_type": "error",
     "traceback": [
      "LoadError: UnicodeError: invalid character index\nwhile loading In[2], in expression starting on line 1",
      "",
      " in getindex at ./unicode/utf8.jl:117",
      " in rstrip at ./strings/util.jl:86",
      " in strip at ./strings/util.jl:89",
      " in anonymous at In[2]:6",
      " in open at iostream.jl:114"
     ]
    }
   ],
   "source": [
    "open(RAW_DS_FN,\"r\") do f\n",
    "    i=0\n",
    "    for l in eachline(f)\n",
    "        i+=1\n",
    "        i>50 && break\n",
    "        println(strip(l))\n",
    "    end\n",
    "end"
   ]
  },
  {
   "cell_type": "code",
   "execution_count": 3,
   "metadata": {
    "collapsed": false
   },
   "outputs": [
    {
     "name": "stdout",
     "output_type": "stream",
     "text": [
      "percentage read: 1.094258919876206 fraction surviving mass filter: 0.548494 halos#: 1645482\n",
      "percentage read: 2.188517839752412 fraction surviving mass filter: 0.5456886666666667 halos#: 3282548\n",
      "percentage read: 3.282776759628619 fraction surviving mass filter: 0.5473623333333333 halos#: 4924635\n",
      "percentage read: 4.377035679504824 fraction surviving mass filter: 0.548053 halos#: 6568794\n",
      "percentage read: 5.471294599381031 fraction surviving mass filter: 0.547293 halos#: 8210673\n",
      "percentage read: 6.565553519257238 fraction surviving mass filter: 0.5503503333333334 halos#: 9861724\n",
      "percentage read: 7.659812439133444 fraction surviving mass filter: 0.547747 halos#: 11504965\n",
      "percentage read: 8.754071359009648 fraction surviving mass filter: 0.5487106666666667 halos#: 13151097\n",
      "percentage read: 9.848330278885856 fraction surviving mass filter: 0.5487783333333334 halos#: 14797432\n",
      "percentage read: 10.942589198762063 fraction surviving mass filter: 0.545276 halos#: 16433260\n",
      "percentage read: 12.036848118638268 fraction surviving mass filter: 0.549012 halos#: 18080296\n",
      "percentage read: 13.131107038514475 fraction surviving mass filter: 0.54838 halos#: 19725436\n",
      "percentage read: 14.225365958390682 fraction surviving mass filter: 0.5484686666666667 halos#: 21370842\n",
      "percentage read: 15.319624878266888 fraction surviving mass filter: 0.5509526666666666 halos#: 23023700\n",
      "percentage read: 16.413883798143093 fraction surviving mass filter: 0.549136 halos#: 24671108\n",
      "percentage read: 17.508142718019297 fraction surviving mass filter: 0.5465293333333333 halos#: 26310696\n",
      "percentage read: 18.602401637895504 fraction surviving mass filter: 0.5464543333333334 halos#: 27950059\n",
      "percentage read: 19.69666055777171 fraction surviving mass filter: 0.5445283333333333 halos#: 29583644\n",
      "percentage read: 20.79091947764792 fraction surviving mass filter: 0.5471726666666666 halos#: 31225162\n",
      "percentage read: 21.885178397524125 fraction surviving mass filter: 0.5478366666666666 halos#: 32868672\n",
      "percentage read: 22.979437317400333 fraction surviving mass filter: 0.546209 halos#: 34507299\n",
      "percentage read: 24.073696237276536 fraction surviving mass filter: 0.547142 halos#: 36148725\n",
      "percentage read: 25.167955157152743 fraction surviving mass filter: 0.5458376666666667 halos#: 37786238\n",
      "percentage read: 26.26221407702895 fraction surviving mass filter: 0.5465426666666666 halos#: 39425866\n",
      "percentage read: 27.356472996905158 fraction surviving mass filter: 0.5482383333333334 halos#: 41070581\n",
      "percentage read: 28.450731916781365 fraction surviving mass filter: 0.5491403333333333 halos#: 42718002\n",
      "percentage read: 29.54499083665757 fraction surviving mass filter: 0.54841 halos#: 44363232\n",
      "percentage read: 30.639249756533776 fraction surviving mass filter: 0.5466943333333333 halos#: 46003315\n",
      "percentage read: 31.733508676409976 fraction surviving mass filter: 0.548441 halos#: 47648638\n",
      "percentage read: 32.827767596286186 fraction surviving mass filter: 0.5467566666666667 halos#: 49288908\n",
      "percentage read: 33.92202651616239 fraction surviving mass filter: 0.549076 halos#: 50936136\n",
      "percentage read: 35.016285436038594 fraction surviving mass filter: 0.546644 halos#: 52576068\n",
      "percentage read: 36.110544355914804 fraction surviving mass filter: 0.5464206666666667 halos#: 54215330\n",
      "percentage read: 37.20480327579101 fraction surviving mass filter: 0.5484476666666667 halos#: 55860673\n",
      "percentage read: 38.29906219566722 fraction surviving mass filter: 0.5462546666666667 halos#: 57499437\n",
      "percentage read: 39.39332111554342 fraction surviving mass filter: 0.548431 halos#: 59144730\n",
      "percentage read: 40.487580035419626 fraction surviving mass filter: 0.5474966666666666 halos#: 60787220\n",
      "percentage read: 41.58183895529584 fraction surviving mass filter: 0.5489133333333334 halos#: 62433960\n",
      "percentage read: 42.67609787517204 fraction surviving mass filter: 0.5485213333333333 halos#: 64079524\n",
      "percentage read: 43.77035679504825 fraction surviving mass filter: 0.5487823333333334 halos#: 65725871\n",
      "percentage read: 44.864615714924454 fraction surviving mass filter: 0.5479196666666667 halos#: 67369630\n",
      "percentage read: 45.958874634800665 fraction surviving mass filter: 0.5500726666666667 halos#: 69019848\n",
      "percentage read: 47.05313355467687 fraction surviving mass filter: 0.5481326666666667 halos#: 70664246\n",
      "percentage read: 48.14739247455307 fraction surviving mass filter: 0.5491456666666666 halos#: 72311683\n",
      "percentage read: 49.24165139442928 fraction surviving mass filter: 0.546753 halos#: 73951942\n",
      "percentage read: 50.33591031430549 fraction surviving mass filter: 0.548369 halos#: 75597049\n",
      "percentage read: 51.43016923418169 fraction surviving mass filter: 0.547884 halos#: 77240701\n",
      "percentage read: 52.5244281540579 fraction surviving mass filter: 0.5449293333333334 halos#: 78875489\n",
      "percentage read: 53.618687073934105 fraction surviving mass filter: 0.548755 halos#: 80521754\n",
      "percentage read: 54.712945993810315 fraction surviving mass filter: 0.5504103333333333 halos#: 82172985\n",
      "percentage read: 55.80720491368651 fraction surviving mass filter: 0.547349 halos#: 83815032\n",
      "percentage read: 56.90146383356273 fraction surviving mass filter: 0.5492256666666666 halos#: 85462709\n",
      "percentage read: 57.995722753438926 fraction surviving mass filter: 0.5492633333333333 halos#: 87110499\n",
      "percentage read: 59.08998167331514 fraction surviving mass filter: 0.5466563333333333 halos#: 88750468\n",
      "percentage read: 60.18424059319134 fraction surviving mass filter: 0.545058 halos#: 90385642\n",
      "percentage read: 61.27849951306755 fraction surviving mass filter: 0.5450713333333334 halos#: 92020856\n",
      "percentage read: 62.372758432943755 fraction surviving mass filter: 0.5457606666666667 halos#: 93658138\n",
      "percentage read: 63.46701735281995 fraction surviving mass filter: 0.547551 halos#: 95300791\n",
      "percentage read: 64.56127627269616 fraction surviving mass filter: 0.5464576666666666 halos#: 96940164\n",
      "percentage read: 65.65553519257237 fraction surviving mass filter: 0.545865 halos#: 98577759\n",
      "percentage read: 66.74979411244858 fraction surviving mass filter: 0.5477853333333333 halos#: 100221115\n",
      "percentage read: 67.84405303232478 fraction surviving mass filter: 0.549647 halos#: 101870056\n",
      "percentage read: 68.93831195220099 fraction surviving mass filter: 0.549301 halos#: 103517959\n",
      "percentage read: 70.03257087207719 fraction surviving mass filter: 0.5468936666666666 halos#: 105158640\n",
      "percentage read: 71.12682979195341 fraction surviving mass filter: 0.5467056666666666 halos#: 106798757\n",
      "percentage read: 72.22108871182961 fraction surviving mass filter: 0.5466846666666667 halos#: 108438811\n",
      "percentage read: 73.31534763170582 fraction surviving mass filter: 0.5483003333333333 halos#: 110083712\n",
      "percentage read: 74.40960655158202 fraction surviving mass filter: 0.5465283333333333 halos#: 111723297\n",
      "percentage read: 75.50386547145823 fraction surviving mass filter: 0.5468213333333334 halos#: 113363761\n",
      "percentage read: 76.59812439133444 fraction surviving mass filter: 0.5476146666666667 halos#: 115006605\n",
      "percentage read: 77.69238331121065 fraction surviving mass filter: 0.5496356666666666 halos#: 116655512\n",
      "percentage read: 78.78664223108684 fraction surviving mass filter: 0.5484426666666666 halos#: 118300840\n",
      "percentage read: 79.88090115096306 fraction surviving mass filter: 0.5469366666666666 halos#: 119941650\n",
      "percentage read: 80.97516007083925 fraction surviving mass filter: 0.5485916666666667 halos#: 121587425\n",
      "percentage read: 82.06941899071546 fraction surviving mass filter: 0.5489743333333333 halos#: 123234348\n",
      "percentage read: 83.16367791059167 fraction surviving mass filter: 0.5490853333333333 halos#: 124881604\n",
      "percentage read: 84.25793683046787 fraction surviving mass filter: 0.5483966666666666 halos#: 126526794\n",
      "percentage read: 85.35219575034408 fraction surviving mass filter: 0.5488723333333333 halos#: 128173411\n",
      "percentage read: 86.44645467022029 fraction surviving mass filter: 0.543582 halos#: 129804157\n",
      "percentage read: 87.5407135900965 fraction surviving mass filter: 0.5487713333333334 halos#: 131450471\n",
      "percentage read: 88.6349725099727 fraction surviving mass filter: 0.5488826666666666 halos#: 133097119\n",
      "percentage read: 89.72923142984891 fraction surviving mass filter: 0.5483176666666667 halos#: 134742072\n",
      "percentage read: 90.8234903497251 fraction surviving mass filter: 0.5452226666666666 halos#: 136377740\n",
      "percentage read: 91.91774926960133 fraction surviving mass filter: 0.5464673333333333 halos#: 138017142\n",
      "percentage read: 93.01200818947753 fraction surviving mass filter: 0.5493986666666667 halos#: 139665338\n",
      "percentage read: 94.10626710935374 fraction surviving mass filter: 0.5485113333333334 halos#: 141310872\n",
      "percentage read: 95.20052602922993 fraction surviving mass filter: 0.5472553333333333 halos#: 142952638\n",
      "percentage read: 96.29478494910614 fraction surviving mass filter: 0.5457203333333334 halos#: 144589799\n",
      "percentage read: 97.38904386898236 fraction surviving mass filter: 0.5467993333333333 halos#: 146230197\n",
      "percentage read: 98.48330278885857 fraction surviving mass filter: 0.54592 halos#: 147867957\n",
      "percentage read: 99.57756170873476 fraction surviving mass filter: 0.5484963333333334 halos#: 149513446\n",
      "100.00000014590118\n"
     ]
    }
   ],
   "source": [
    "x,y,z,vx,vy,vz,m = load_raw_halos1600();"
   ]
  },
  {
   "cell_type": "code",
   "execution_count": 4,
   "metadata": {
    "collapsed": false
   },
   "outputs": [
    {
     "data": {
      "text/plain": [
       "Array{Float32,1}"
      ]
     },
     "execution_count": 4,
     "metadata": {},
     "output_type": "execute_result"
    }
   ],
   "source": [
    "typeof(m)"
   ]
  },
  {
   "cell_type": "code",
   "execution_count": 5,
   "metadata": {
    "collapsed": false
   },
   "outputs": [
    {
     "data": {
      "text/plain": [
       "3.01031464862741"
      ]
     },
     "execution_count": 5,
     "metadata": {},
     "output_type": "execute_result"
    }
   ],
   "source": [
    "(1600^3/length(x))^(1/3)"
   ]
  },
  {
   "cell_type": "code",
   "execution_count": 6,
   "metadata": {
    "collapsed": false
   },
   "outputs": [
    {
     "data": {
      "text/plain": [
       "1.5486585f10"
      ]
     },
     "execution_count": 6,
     "metadata": {},
     "output_type": "execute_result"
    }
   ],
   "source": [
    "sum(m)"
   ]
  },
  {
   "cell_type": "code",
   "execution_count": 7,
   "metadata": {
    "collapsed": false
   },
   "outputs": [
    {
     "data": {
      "text/plain": [
       "315.87473f0"
      ]
     },
     "execution_count": 7,
     "metadata": {},
     "output_type": "execute_result"
    }
   ],
   "source": [
    "std(vx)"
   ]
  },
  {
   "cell_type": "code",
   "execution_count": 8,
   "metadata": {
    "collapsed": false
   },
   "outputs": [
    {
     "data": {
      "text/plain": [
       "0.0892394f0"
      ]
     },
     "execution_count": 8,
     "metadata": {},
     "output_type": "execute_result"
    }
   ],
   "source": [
    "mean(vx)"
   ]
  },
  {
   "cell_type": "code",
   "execution_count": 9,
   "metadata": {
    "collapsed": false
   },
   "outputs": [
    {
     "data": {
      "text/plain": [
       "3.355965885275569e10"
      ]
     },
     "execution_count": 9,
     "metadata": {},
     "output_type": "execute_result"
    }
   ],
   "source": [
    "MASS_IN_BOX"
   ]
  },
  {
   "cell_type": "code",
   "execution_count": 10,
   "metadata": {
    "collapsed": true
   },
   "outputs": [],
   "source": [
    "save_realization(x,y,z,vx,vy,vz,m);"
   ]
  },
  {
   "cell_type": "code",
   "execution_count": 3,
   "metadata": {
    "collapsed": false
   },
   "outputs": [],
   "source": [
    "x,y,z,vx,vy,vz,m = load_realization();"
   ]
  },
  {
   "cell_type": "code",
   "execution_count": 4,
   "metadata": {
    "collapsed": false
   },
   "outputs": [
    {
     "data": {
      "text/plain": [
       "315.87473f0"
      ]
     },
     "execution_count": 4,
     "metadata": {},
     "output_type": "execute_result"
    }
   ],
   "source": [
    "std(vx)"
   ]
  },
  {
   "cell_type": "code",
   "execution_count": 5,
   "metadata": {
    "collapsed": false
   },
   "outputs": [
    {
     "data": {
      "text/plain": [
       "1.5486585f10"
      ]
     },
     "execution_count": 5,
     "metadata": {},
     "output_type": "execute_result"
    }
   ],
   "source": [
    "sum(m)"
   ]
  },
  {
   "cell_type": "code",
   "execution_count": null,
   "metadata": {
    "collapsed": true
   },
   "outputs": [],
   "source": []
  }
 ],
 "metadata": {
  "kernelspec": {
   "display_name": "Julia 0.4.1",
   "language": "julia",
   "name": "julia-0.4"
  },
  "language_info": {
   "file_extension": ".jl",
   "mimetype": "application/julia",
   "name": "julia",
   "version": "0.4.3"
  }
 },
 "nbformat": 4,
 "nbformat_minor": 0
}
