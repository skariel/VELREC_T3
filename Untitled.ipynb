{
 "cells": [
  {
   "cell_type": "code",
   "execution_count": 1,
   "metadata": {
    "collapsed": false
   },
   "outputs": [
    {
     "data": {
      "text/plain": [
       "4-element Array{Int64,1}:\n",
       " 2\n",
       " 3\n",
       " 4\n",
       " 5"
      ]
     },
     "execution_count": 1,
     "metadata": {},
     "output_type": "execute_result"
    }
   ],
   "source": [
    "addprocs(4)"
   ]
  },
  {
   "cell_type": "code",
   "execution_count": 7,
   "metadata": {
    "collapsed": false
   },
   "outputs": [
    {
     "name": "stderr",
     "output_type": "stream",
     "text": [
      "WARNING: redefining constant RAW_DS_FN\n"
     ]
    }
   ],
   "source": [
    "include(\"jl/all.jl\");"
   ]
  },
  {
   "cell_type": "code",
   "execution_count": 14,
   "metadata": {
    "collapsed": false
   },
   "outputs": [
    {
     "name": "stdout",
     "output_type": "stream",
     "text": [
      "  0.513790 seconds (10.19 k allocations: 743.281 KB)\n"
     ]
    }
   ],
   "source": [
    "x = SharedArray(Float32, 8000000)\n",
    "x[:] = randn(8000000)*20+501\n",
    "y = SharedArray(Float32, 8000000)\n",
    "y[:] = randn(8000000)*20+501\n",
    "z = SharedArray(Float32, 8000000)\n",
    "z[:] = randn(8000000)*20+501\n",
    "m = SharedArray(Float32, 8000000)\n",
    "m[:] = ones(8000000)\n",
    "N = 256\n",
    "rho=SharedArray(Complex64, (N,N,N))\n",
    "@time to_cic!(x,y,z,m, rho, 1, 1000);"
   ]
  },
  {
   "cell_type": "code",
   "execution_count": 19,
   "metadata": {
    "collapsed": false
   },
   "outputs": [
    {
     "data": {
      "image/png": "[encoded data removed]",
      "text/plain": [
       "Winston.FramedPlot(...)"
      ]
     },
     "execution_count": 19,
     "metadata": {},
     "output_type": "execute_result"
    }
   ],
   "source": [
    "Winston.set_default_plot_size(400,400)\n",
    "imagesc(real(rho[:,:,129]))\n",
    "grid(true)"
   ]
  },
  {
   "cell_type": "code",
   "execution_count": 10,
   "metadata": {
    "collapsed": false
   },
   "outputs": [
    {
     "data": {
      "text/plain": [
       "80000.0f0"
      ]
     },
     "execution_count": 10,
     "metadata": {},
     "output_type": "execute_result"
    }
   ],
   "source": [
    "sum(m)"
   ]
  },
  {
   "cell_type": "code",
   "execution_count": 4,
   "metadata": {
    "collapsed": false
   },
   "outputs": [],
   "source": [
    "x = SharedArray(Float32, Int(150000000))\n",
    "x[:] = rand(Float32, Int(150000000))*999+1;\n",
    "y = SharedArray(Float32, Int(150000000))\n",
    "y[:] = rand(Float32, Int(150000000))*999+1;\n",
    "z = SharedArray(Float32, Int(150000000))\n",
    "z[:] = rand(Float32, Int(150000000))*999+1;\n",
    "v = SharedArray(Float32, Int(150000000));"
   ]
  },
  {
   "cell_type": "code",
   "execution_count": 5,
   "metadata": {
    "collapsed": false
   },
   "outputs": [
    {
     "name": "stdout",
     "output_type": "stream",
     "text": [
      "\tFrom worker 9:\tsplits[idx] + 1:splits[idx + 1] = 131250001:150000000\n",
      "\tFrom worker 6:\tsplits[idx] + 1:splits[idx + 1] = 75000001:93750000\n",
      "\tFrom worker 3:\tsplits[idx] + 1:splits[idx + 1] = 18750001:37500000\n",
      "\tFrom worker 7:\tsplits[idx] + 1:splits[idx + 1] = 93750001:112500000\n",
      "\tFrom worker 5:\tsplits[idx] + 1:splits[idx + 1] = 56250001:75000000\n",
      "\tFrom worker 4:\tsplits[idx] + 1:splits[idx + 1] = 37500001:56250000\n",
      "\tFrom worker 2:\tsplits[idx] + 1:splits[idx + 1] = 1:18750000\n",
      "\tFrom worker 8:\tsplits[idx] + 1:splits[idx + 1] = 112500001:131250000\n",
      " 12.491113 seconds (76.12 k allocations: 4.794 MB)\n",
      "typeof(v) = SharedArray{Float32,1}\n"
     ]
    },
    {
     "data": {
      "text/plain": [
       "SharedArray{Float32,1}"
      ]
     },
     "execution_count": 5,
     "metadata": {},
     "output_type": "execute_result"
    }
   ],
   "source": [
    "@time from_cic!(v, x,y,z,rho,1,1000);\n",
    "@show typeof(v)"
   ]
  },
  {
   "cell_type": "code",
   "execution_count": 7,
   "metadata": {
    "collapsed": false
   },
   "outputs": [
    {
     "data": {
      "text/plain": [
       "500.93436f0"
      ]
     },
     "execution_count": 7,
     "metadata": {},
     "output_type": "execute_result"
    }
   ],
   "source": [
    "mean(z[find(v)])"
   ]
  },
  {
   "cell_type": "code",
   "execution_count": null,
   "metadata": {
    "collapsed": true
   },
   "outputs": [],
   "source": []
  }
 ],
 "metadata": {
  "kernelspec": {
   "display_name": "Julia 0.4.1",
   "language": "julia",
   "name": "julia-0.4"
  },
  "language_info": {
   "file_extension": ".jl",
   "mimetype": "application/julia",
   "name": "julia",
   "version": "0.4.3"
  }
 },
 "nbformat": 4,
 "nbformat_minor": 0
}
