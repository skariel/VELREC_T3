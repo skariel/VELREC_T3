{
 "cells": [
  {
   "cell_type": "code",
   "execution_count": 1,
   "metadata": {
    "collapsed": false
   },
   "outputs": [
    {
     "name": "stderr",
     "output_type": "stream",
     "text": [
      "WARNING: requiring \"Dates\" in module \"Winston\" did not define a corresponding module.\n",
      "WARNING: module Winston should explicitly import * from Base\n"
     ]
    }
   ],
   "source": [
    "include(\"jl/all.jl\");"
   ]
  },
  {
   "cell_type": "code",
   "execution_count": 2,
   "metadata": {
    "collapsed": false
   },
   "outputs": [
    {
     "name": "stdout",
     "output_type": "stream",
     "text": [
      "# SDF 1.0\n",
      "int header_len =  1216;\n",
      "parameter byteorder = 0x78563412;\n",
      "int64_t nhalo = 274158149;\n",
      "float particle_mass = 4.88088986e+09;\n",
      "float part_mass = 4.88088986e+09;\n",
      "double BOX_SIZE = 1600;\n",
      "double L0 = 1600;\n",
      "double R0 = 800;\n",
      "int offset_center = 1;\n",
      "double redshift = 0;\n",
      "double tpos = 13.75891400396503;\n",
      "double overdensity = 200;\n",
      "double SCALE_NOW = 1;\n",
      "double a = 1;\n",
      "int do_periodic = 1;\n",
      "float x_min = 0;\n",
      "float y_min = 0;\n",
      "float z_min = 0;\n",
      "float x_max = 1600;\n",
      "float y_max = 1600;\n",
      "float z_max = 1600;\n",
      "double Omega0_m = 0.295126;\n",
      "double Omega0_lambda = 0.704874;\n",
      "double h_100 = 0.688062;\n",
      "int so200b = 1;\n",
      "int rockstar_units = 1;\n",
      "int morton_xyz = 1;\n",
      "char length_unit[] = \"Mpccm/h\";\n",
      "char mass_unit[] = \"Msun/h\";\n",
      "char time_unit[] = \"Gyr\";\n",
      "char velocity_unit[] = \"km/s\";\n",
      "char compiled_version_2HOT[] = \"2HOT-1.1.0-59-ge252469\";\n",
      "char compiled_date_2HOT[] = \"Jun 12 2014\";\n",
      "char compiled_time_2HOT[] = \"19:54:08\";\n",
      "int sha1_chunks = 64;\n",
      "struct {\n",
      "unsigned int sha1_len;\n",
      "unsigned char sha1[20];\n",
      "}[64];\n",
      "struct {\n",
      "float x, y, z;\n",
      "float vx, vy, vz;\n",
      "float mvir, m200b, m200c, m500c, m2500c;\n",
      "float vmax, rvmax, r200b, spin, kin_to_pot;\n",
      "int64_t id, pid;\n",
      "}[274158149];\n",
      "#\n",
      "# SDF-EOH\n"
     ]
    },
    {
     "ename": "LoadError",
     "evalue": "LoadError: UnicodeError: invalid character index\nwhile loading In[2], in expression starting on line 1",
     "output_type": "error",
     "traceback": [
      "LoadError: UnicodeError: invalid character index\nwhile loading In[2], in expression starting on line 1",
      "",
      " in getindex at ./unicode/utf8.jl:117",
      " in rstrip at ./strings/util.jl:86",
      " in strip at ./strings/util.jl:89",
      " in anonymous at In[2]:6",
      " in open at iostream.jl:114"
     ]
    }
   ],
   "source": [
    "open(RAW_DS_FN,\"r\") do f\n",
    "    i=0\n",
    "    for l in eachline(f)\n",
    "        i+=1\n",
    "        i>50 && break\n",
    "        println(strip(l))\n",
    "    end\n",
    "end"
   ]
  },
  {
   "cell_type": "code",
   "execution_count": 3,
   "metadata": {
    "collapsed": false
   },
   "outputs": [
    {
     "name": "stdout",
     "output_type": "stream",
     "text": [
      "percentage read: 1.094258919876206 fraction surviving mass filter: 0.2898716666666667 halos#: 869615\n",
      "percentage read: 2.188517839752412 fraction surviving mass filter: 0.288565 halos#: 1735310\n",
      "percentage read: 3.282776759628619 fraction surviving mass filter: 0.28933766666666666 halos#: 2603323\n",
      "percentage read: 4.377035679504824 fraction surviving mass filter: 0.289899 halos#: 3473020\n",
      "percentage read: 5.471294599381031 fraction surviving mass filter: 0.289624 halos#: 4341892\n",
      "percentage read: 6.565553519257238 fraction surviving mass filter: 0.29062533333333335 halos#: 5213768\n",
      "percentage read: 7.659812439133444 fraction surviving mass filter: 0.2897746666666667 halos#: 6083092\n",
      "percentage read: 8.754071359009648 fraction surviving mass filter: 0.290169 halos#: 6953599\n",
      "percentage read: 9.848330278885856 fraction surviving mass filter: 0.290145 halos#: 7824034\n",
      "percentage read: 10.942589198762063 fraction surviving mass filter: 0.2887533333333333 halos#: 8690294\n",
      "percentage read: 12.036848118638268 fraction surviving mass filter: 0.29065833333333335 halos#: 9562269\n",
      "percentage read: 13.131107038514475 fraction surviving mass filter: 0.28987833333333335 halos#: 10431904\n",
      "percentage read: 14.225365958390682 fraction surviving mass filter: 0.29 halos#: 11301904\n",
      "percentage read: 15.319624878266888 fraction surviving mass filter: 0.2908793333333333 halos#: 12174542\n",
      "percentage read: 16.413883798143093 fraction surviving mass filter: 0.29023766666666667 halos#: 13045255\n",
      "percentage read: 17.508142718019297 fraction surviving mass filter: 0.28966633333333336 halos#: 13914254\n",
      "percentage read: 18.602401637895504 fraction surviving mass filter: 0.28944033333333336 halos#: 14782575\n",
      "percentage read: 19.69666055777171 fraction surviving mass filter: 0.28808633333333333 halos#: 15646834\n",
      "percentage read: 20.79091947764792 fraction surviving mass filter: 0.289104 halos#: 16514146\n",
      "percentage read: 21.885178397524125 fraction surviving mass filter: 0.2894893333333333 halos#: 17382614\n",
      "percentage read: 22.979437317400333 fraction surviving mass filter: 0.2890373333333333 halos#: 18249726\n",
      "percentage read: 24.073696237276536 fraction surviving mass filter: 0.2891146666666667 halos#: 19117070\n",
      "percentage read: 25.167955157152743 fraction surviving mass filter: 0.28886066666666665 halos#: 19983652\n",
      "percentage read: 26.26221407702895 fraction surviving mass filter: 0.2889123333333333 halos#: 20850389\n",
      "percentage read: 27.356472996905158 fraction surviving mass filter: 0.28978 halos#: 21719729\n",
      "percentage read: 28.450731916781365 fraction surviving mass filter: 0.28985533333333335 halos#: 22589295\n",
      "percentage read: 29.54499083665757 fraction surviving mass filter: 0.289809 halos#: 23458722\n",
      "percentage read: 30.639249756533776 fraction surviving mass filter: 0.28902666666666665 halos#: 24325802\n",
      "percentage read: 31.733508676409976 fraction surviving mass filter: 0.29001933333333335 halos#: 25195860\n",
      "percentage read: 32.827767596286186 fraction surviving mass filter: 0.289357 halos#: 26063931\n",
      "percentage read: 33.92202651616239 fraction surviving mass filter: 0.290007 halos#: 26933952\n",
      "percentage read: 35.016285436038594 fraction surviving mass filter: 0.289435 halos#: 27802257\n",
      "percentage read: 36.110544355914804 fraction surviving mass filter: 0.2888016666666667 halos#: 28668662\n",
      "percentage read: 37.20480327579101 fraction surviving mass filter: 0.28984533333333334 halos#: 29538198\n",
      "percentage read: 38.29906219566722 fraction surviving mass filter: 0.28899766666666665 halos#: 30405191\n",
      "percentage read: 39.39332111554342 fraction surviving mass filter: 0.289837 halos#: 31274702\n",
      "percentage read: 40.487580035419626 fraction surviving mass filter: 0.28939966666666667 halos#: 32142901\n",
      "percentage read: 41.58183895529584 fraction surviving mass filter: 0.290294 halos#: 33013783\n",
      "percentage read: 42.67609787517204 fraction surviving mass filter: 0.28945166666666666 halos#: 33882138\n",
      "percentage read: 43.77035679504825 fraction surviving mass filter: 0.2905683333333333 halos#: 34753843\n",
      "percentage read: 44.864615714924454 fraction surviving mass filter: 0.28936266666666666 halos#: 35621931\n",
      "percentage read: 45.958874634800665 fraction surviving mass filter: 0.290154 halos#: 36492393\n",
      "percentage read: 47.05313355467687 fraction surviving mass filter: 0.28970866666666667 halos#: 37361519\n",
      "percentage read: 48.14739247455307 fraction surviving mass filter: 0.28954633333333335 halos#: 38230158\n",
      "percentage read: 49.24165139442928 fraction surviving mass filter: 0.28963666666666665 halos#: 39099068\n",
      "percentage read: 50.33591031430549 fraction surviving mass filter: 0.2898826666666667 halos#: 39968716\n",
      "percentage read: 51.43016923418169 fraction surviving mass filter: 0.2896166666666667 halos#: 40837566\n",
      "percentage read: 52.5244281540579 fraction surviving mass filter: 0.2880453333333333 halos#: 41701702\n",
      "percentage read: 53.618687073934105 fraction surviving mass filter: 0.28976066666666667 halos#: 42570984\n",
      "percentage read: 54.712945993810315 fraction surviving mass filter: 0.29074533333333336 halos#: 43443220\n",
      "percentage read: 55.80720491368651 fraction surviving mass filter: 0.28945733333333334 halos#: 44311592\n",
      "percentage read: 56.90146383356273 fraction surviving mass filter: 0.290406 halos#: 45182810\n",
      "percentage read: 57.995722753438926 fraction surviving mass filter: 0.28998966666666665 halos#: 46052779\n",
      "percentage read: 59.08998167331514 fraction surviving mass filter: 0.28938966666666666 halos#: 46920948\n",
      "percentage read: 60.18424059319134 fraction surviving mass filter: 0.28850133333333333 halos#: 47786452\n",
      "percentage read: 61.27849951306755 fraction surviving mass filter: 0.28871433333333335 halos#: 48652595\n",
      "percentage read: 62.372758432943755 fraction surviving mass filter: 0.2888193333333333 halos#: 49519053\n",
      "percentage read: 63.46701735281995 fraction surviving mass filter: 0.289518 halos#: 50387607\n",
      "percentage read: 64.56127627269616 fraction surviving mass filter: 0.2889736666666667 halos#: 51254528\n",
      "percentage read: 65.65553519257237 fraction surviving mass filter: 0.28883233333333336 halos#: 52121025\n",
      "percentage read: 66.74979411244858 fraction surviving mass filter: 0.289591 halos#: 52989798\n",
      "percentage read: 67.84405303232478 fraction surviving mass filter: 0.29029733333333335 halos#: 53860690\n",
      "percentage read: 68.93831195220099 fraction surviving mass filter: 0.289953 halos#: 54730549\n",
      "percentage read: 70.03257087207719 fraction surviving mass filter: 0.28912933333333335 halos#: 55597937\n",
      "percentage read: 71.12682979195341 fraction surviving mass filter: 0.28913 halos#: 56465327\n",
      "percentage read: 72.22108871182961 fraction surviving mass filter: 0.28891066666666665 halos#: 57332059\n",
      "percentage read: 73.31534763170582 fraction surviving mass filter: 0.2897593333333333 halos#: 58201337\n",
      "percentage read: 74.40960655158202 fraction surviving mass filter: 0.2890106666666667 halos#: 59068369\n",
      "percentage read: 75.50386547145823 fraction surviving mass filter: 0.28954166666666664 halos#: 59936994\n",
      "percentage read: 76.59812439133444 fraction surviving mass filter: 0.28940933333333335 halos#: 60805222\n",
      "percentage read: 77.69238331121065 fraction surviving mass filter: 0.2904676666666667 halos#: 61676625\n",
      "percentage read: 78.78664223108684 fraction surviving mass filter: 0.28987366666666664 halos#: 62546246\n",
      "percentage read: 79.88090115096306 fraction surviving mass filter: 0.28867333333333334 halos#: 63412266\n",
      "percentage read: 80.97516007083925 fraction surviving mass filter: 0.290251 halos#: 64283019\n",
      "percentage read: 82.06941899071546 fraction surviving mass filter: 0.29045533333333334 halos#: 65154385\n",
      "percentage read: 83.16367791059167 fraction surviving mass filter: 0.28973533333333334 halos#: 66023591\n",
      "percentage read: 84.25793683046787 fraction surviving mass filter: 0.2894506666666667 halos#: 66891943\n",
      "percentage read: 85.35219575034408 fraction surviving mass filter: 0.28979366666666667 halos#: 67761324\n",
      "percentage read: 86.44645467022029 fraction surviving mass filter: 0.287907 halos#: 68625045\n",
      "percentage read: 87.5407135900965 fraction surviving mass filter: 0.289914 halos#: 69494787\n",
      "percentage read: 88.6349725099727 fraction surviving mass filter: 0.2894893333333333 halos#: 70363255\n",
      "percentage read: 89.72923142984891 fraction surviving mass filter: 0.28978333333333334 halos#: 71232605\n",
      "percentage read: 90.8234903497251 fraction surviving mass filter: 0.28891 halos#: 72099335\n",
      "percentage read: 91.91774926960133 fraction surviving mass filter: 0.28928766666666667 halos#: 72967198\n",
      "percentage read: 93.01200818947753 fraction surviving mass filter: 0.290239 halos#: 73837915\n",
      "percentage read: 94.10626710935374 fraction surviving mass filter: 0.29009233333333334 halos#: 74708192\n",
      "percentage read: 95.20052602922993 fraction surviving mass filter: 0.289838 halos#: 75577706\n",
      "percentage read: 96.29478494910614 fraction surviving mass filter: 0.28891 halos#: 76444436\n",
      "percentage read: 97.38904386898236 fraction surviving mass filter: 0.28920866666666667 halos#: 77312062\n",
      "percentage read: 98.48330278885857 fraction surviving mass filter: 0.2887963333333333 halos#: 78178451\n",
      "percentage read: 99.57756170873476 fraction surviving mass filter: 0.289971 halos#: 79048364\n",
      "100.00000014590118\n"
     ]
    }
   ],
   "source": [
    "halos = load_raw_halos1600();"
   ]
  },
  {
   "cell_type": "code",
   "execution_count": 4,
   "metadata": {
    "collapsed": false
   },
   "outputs": [
    {
     "data": {
      "text/plain": [
       "3.7228438400927666"
      ]
     },
     "execution_count": 4,
     "metadata": {},
     "output_type": "execute_result"
    }
   ],
   "source": [
    "(1600^3/length(halos))^(1/3)"
   ]
  },
  {
   "cell_type": "code",
   "execution_count": 5,
   "metadata": {
    "collapsed": false
   },
   "outputs": [],
   "source": [
    "x,y,z,vx,vy,vz,m = get_pos_vel_mass(halos);"
   ]
  },
  {
   "cell_type": "code",
   "execution_count": 10,
   "metadata": {
    "collapsed": false
   },
   "outputs": [
    {
     "data": {
      "text/plain": [
       "1.4508245f10"
      ]
     },
     "execution_count": 10,
     "metadata": {},
     "output_type": "execute_result"
    }
   ],
   "source": [
    "sum(m)"
   ]
  },
  {
   "cell_type": "code",
   "execution_count": 11,
   "metadata": {
    "collapsed": false
   },
   "outputs": [
    {
     "data": {
      "text/plain": [
       "3.355965885275569e10"
      ]
     },
     "execution_count": 11,
     "metadata": {},
     "output_type": "execute_result"
    }
   ],
   "source": [
    "MASS_IN_BOX"
   ]
  },
  {
   "cell_type": "code",
   "execution_count": 12,
   "metadata": {
    "collapsed": true
   },
   "outputs": [],
   "source": [
    "halos=nothing\n",
    "gc()"
   ]
  },
  {
   "cell_type": "code",
   "execution_count": 15,
   "metadata": {
    "collapsed": true
   },
   "outputs": [],
   "source": [
    "save_realization(x,y,z,vx,vy,vz,m);"
   ]
  },
  {
   "cell_type": "code",
   "execution_count": null,
   "metadata": {
    "collapsed": false
   },
   "outputs": [],
   "source": [
    "x,y,z,vx,vy,vz,m = load_realization();"
   ]
  },
  {
   "cell_type": "code",
   "execution_count": null,
   "metadata": {
    "collapsed": false
   },
   "outputs": [],
   "source": [
    "sum(m)"
   ]
  }
 ],
 "metadata": {
  "kernelspec": {
   "display_name": "Julia 0.4.1",
   "language": "julia",
   "name": "julia-0.4"
  },
  "language_info": {
   "file_extension": ".jl",
   "mimetype": "application/julia",
   "name": "julia",
   "version": "0.4.3"
  }
 },
 "nbformat": 4,
 "nbformat_minor": 0
}
