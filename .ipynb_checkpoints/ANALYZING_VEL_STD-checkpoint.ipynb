{
 "cells": [
  {
   "cell_type": "code",
   "execution_count": 1,
   "metadata": {
    "collapsed": false,
    "scrolled": true
   },
   "outputs": [
    {
     "name": "stderr",
     "output_type": "stream",
     "text": [
      "WARNING: Method definition info(Any...) in module Base at util.jl:334 overwritten in module Logging at /home/skariel/.julia/v0.4/Logging/src/Logging.jl:61.\n",
      "WARNING: Method definition warn(Any...) in module Base at util.jl:364 overwritten in module Logging at /home/skariel/.julia/v0.4/Logging/src/Logging.jl:61.\n",
      "WARNING: Method definition info(Any...) in module Base at util.jl:334 overwritten in module Logging at /home/skariel/.julia/v0.4/Logging/src/Logging.jl:61.\n",
      "WARNING: Method definition info(Any...) in module Base at util.jl:334 overwritten in module Logging at /home/skariel/.julia/v0.4/Logging/src/Logging.jl:61.\n",
      "WARNING: Method definition info(Any...) in module Base at util.jl:334 overwritten in module Logging at /home/skariel/.julia/v0.4/Logging/src/Logging.jl:61.\n",
      "WARNING: Method definition info(Any...) in module Base at util.jl:334 overwritten in module Logging at /home/skariel/.julia/v0.4/Logging/src/Logging.jl:61.\n",
      "WARNING: Method definition warnWARNING: Method definition warn((AnyAny......)) in module Base in module Base at util.jl:364 at util.jl:364 overwritten in module Logging overwritten in module Logging at /home/skariel/.julia/v0.4/Logging/src/Logging.jl:61 at /home/skariel/.julia/v0.4/Logging/src/Logging.jl:61.\n",
      ".\n",
      "WARNING: Method definition warn(Any...) in module Base at util.jl:364 overwritten in module Logging at /home/skariel/.julia/v0.4/Logging/src/Logging.jl:61.\n",
      "WARNING: Method definition warn(Any...) in module Base at util.jl:364 overwritten in module Logging at /home/skariel/.julia/v0.4/Logging/src/Logging.jl:61.\n",
      "WARNING: requiring \"Dates\" in module \"Winston\" did not define a corresponding module.\n",
      "WARNING: module Winston should explicitly import * from Base\n",
      "WARNING: requiring \"Dates\" in module \"Winston\" did not define a corresponding module.\n",
      "WARNING: requiring \"Dates\" in module \"Winston\" did not define a corresponding module.\n",
      "WARNING: requiring \"Dates\" in module \"Winston\" did not define a corresponding module.\n",
      "WARNING: requiring \"Dates\" in module \"Winston\" did not define a corresponding module.\n",
      "WARNING: module Winston should explicitly import * from Base\n",
      "WARNING: module Winston should explicitly import * from Base\n",
      "WARNING: module Winston should explicitly import * from Base\n",
      "WARNING: module Winston should explicitly import * from Base\n"
     ]
    }
   ],
   "source": [
    "addprocs(4)\n",
    "include(\"jl/all.jl\");"
   ]
  },
  {
   "cell_type": "code",
   "execution_count": 2,
   "metadata": {
    "collapsed": false
   },
   "outputs": [],
   "source": [
    "pos = load_realization_pos(\"full\");"
   ]
  },
  {
   "cell_type": "code",
   "execution_count": 3,
   "metadata": {
    "collapsed": false
   },
   "outputs": [],
   "source": [
    "vx_r = load_chunked_array(\"vx\", false, \"full\");"
   ]
  },
  {
   "cell_type": "code",
   "execution_count": 4,
   "metadata": {
    "collapsed": false
   },
   "outputs": [
    {
     "data": {
      "text/plain": [
       "150149632-element Array{Float32,1}:\n",
       "  4.45144 \n",
       "  3.02268 \n",
       "  2.50294 \n",
       "  5.35148 \n",
       "  4.22108 \n",
       "  4.24947 \n",
       "  4.35622 \n",
       "  3.73123 \n",
       "  3.34487 \n",
       "  3.55128 \n",
       "  3.34437 \n",
       "  3.43438 \n",
       "  4.813   \n",
       "  ⋮       \n",
       "  4.80165 \n",
       "  3.72133 \n",
       "  3.99897 \n",
       "  1.32221 \n",
       "  1.19321 \n",
       "  3.14804 \n",
       "  3.33495 \n",
       "  1.32846 \n",
       "  3.95801 \n",
       "  1.704   \n",
       " -0.320447\n",
       " -0.676924"
      ]
     },
     "execution_count": 4,
     "metadata": {},
     "output_type": "execute_result"
    }
   ],
   "source": [
    "#vx_real_1 = load_arr_f32(\"linear/vx_real_1.gitignore\")\n",
    "#vx_real_2 = load_arr_f32(\"linear/vx_real_2.gitignore\");\n",
    "vx_real_1 = load_arr_f32(\"linear/vx_eq_1.gitignore\")\n",
    "vx_real_2 = load_arr_f32(\"linear/vx_eq_2.gitignore\");"
   ]
  },
  {
   "cell_type": "code",
   "execution_count": 5,
   "metadata": {
    "collapsed": false
   },
   "outputs": [],
   "source": [
    "# vx_real_zel = load_arr_f32(\"lagrangean/vx_zel_real_1.gitignore\");\n",
    "# vx_real_fwd_zel = load_arr_f32(\"lagrangean/vx_zel_fwd_real_1.gitignore\");\n",
    "# vx_real_2lpt_1 = load_arr_f32(\"lagrangean/vx_2lpt_real_1.gitignore\");\n",
    "# vx_real_2lpt_2 = load_arr_f32(\"lagrangean/vx_2lpt_real_2.gitignore\");\n",
    "# vx_real_dyn = load_chunked_array(\"vx\", false, \"rfull_p40_mrtrue_optlaminar_simdyn_icstarget\");\n",
    "\n",
    "vx_real_zel = load_arr_f32(\"lagrangean/vx_zel_eq_1.gitignore\");\n",
    "vx_real_2lpt_1 = load_arr_f32(\"lagrangean/vx_2lpt_eq_1.gitignore\");\n",
    "vx_real_2lpt_2 = load_arr_f32(\"lagrangean/vx_2lpt_eq_2.gitignore\");\n",
    "vx_real_dyn = load_chunked_array(\"vx\", false, \"rfull_p40_mrfalse_optlaminar_simdyn_icstarget\");"
   ]
  },
  {
   "cell_type": "code",
   "execution_count": 6,
   "metadata": {
    "collapsed": true
   },
   "outputs": [],
   "source": [
    "kd = get_kd(pos);"
   ]
  },
  {
   "cell_type": "code",
   "execution_count": 14,
   "metadata": {
    "collapsed": false
   },
   "outputs": [
    {
     "data": {
      "text/plain": [
       "(0.6827046832348199,42.802069459562716)"
      ]
     },
     "execution_count": 14,
     "metadata": {},
     "output_type": "execute_result"
    }
   ],
   "source": [
    "smth = 10000.0\n",
    "n = 50000\n",
    "get_slope_std_smoothed(kd, vx_real_1, vx_r, pos, smth, n)"
   ]
  },
  {
   "cell_type": "code",
   "execution_count": null,
   "metadata": {
    "collapsed": true
   },
   "outputs": [],
   "source": []
  }
 ],
 "metadata": {
  "kernelspec": {
   "display_name": "Julia 0.4.1",
   "language": "julia",
   "name": "julia-0.4"
  },
  "language_info": {
   "file_extension": ".jl",
   "mimetype": "application/julia",
   "name": "julia",
   "version": "0.4.3"
  }
 },
 "nbformat": 4,
 "nbformat_minor": 0
}
