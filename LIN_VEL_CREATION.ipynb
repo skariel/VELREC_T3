{
 "cells": [
  {
   "cell_type": "code",
   "execution_count": 1,
   "metadata": {
    "collapsed": false
   },
   "outputs": [
    {
     "name": "stderr",
     "output_type": "stream",
     "text": [
      "WARNING: Method definition info(Any...) in module Base at util.jl:334 overwritten in module Logging at /home/skariel/.julia/v0.4/Logging/src/Logging.jl:61.\n",
      "WARNING: Method definition warn(Any...) in module Base at util.jl:364 overwritten in module Logging at /home/skariel/.julia/v0.4/Logging/src/Logging.jl:61.\n",
      "WARNING: Method definition info(Any...) in module Base at util.jl:334 overwritten in module Logging at /home/skariel/.julia/v0.4/Logging/src/Logging.jl:61.\n",
      "WARNING: Method definition info(Any...) in module Base at util.jl:334 overwritten in module Logging at /home/skariel/.julia/v0.4/Logging/src/Logging.jl:61.\n",
      "WARNING: Method definition warn(Any...) in module Base at util.jl:364 overwritten in module Logging at /home/skariel/.julia/v0.4/Logging/src/Logging.jl:61.\n",
      "WARNING: Method definition warn(Any...) in module Base at util.jl:364 overwritten in module Logging at /home/skariel/.julia/v0.4/Logging/src/Logging.jl:61.\n",
      "WARNING: Method definition info(Any...) in module Base at util.jl:334 overwritten in module Logging at /home/skariel/.julia/v0.4/Logging/src/Logging.jl:61.\n",
      "WARNING: Method definition warn(Any...) in module Base at util.jl:364 overwritten in module Logging at /home/skariel/.julia/v0.4/Logging/src/Logging.jl:61.\n",
      "WARNING: Method definition info(Any...) in module Base at util.jl:334 overwritten in module Logging at /home/skariel/.julia/v0.4/Logging/src/Logging.jl:61.\n",
      "WARNING: Method definition warn(Any...) in module Base at util.jl:364 overwritten in module Logging at /home/skariel/.julia/v0.4/Logging/src/Logging.jl:61.\n",
      "WARNING: requiring \"Dates\" in module \"Winston\" did not define a corresponding module.\n",
      "WARNING: module Winston should explicitly import * from Base\n",
      "WARNING: requiring \"Dates\" in module \"Winston\" did not define a corresponding module.\n",
      "WARNING: requiring \"Dates\" in module \"Winston\" did not define a corresponding module.\n",
      "WARNING: requiring \"Dates\" in module \"Winston\" did not define a corresponding module.\n",
      "WARNING: requiring \"Dates\" in module \"Winston\" did not define a corresponding module.\n",
      "WARNING: module Winston should explicitly import * from Base\n",
      "WARNING: module Winston should explicitly import * from Base\n",
      "WARNING: module Winston should explicitly import * from Base\n",
      "WARNING: module Winston should explicitly import * from Base\n"
     ]
    }
   ],
   "source": [
    "addprocs(4)\n",
    "include(\"jl/all.jl\");\n",
    "\n",
    "pos, m = load_realization_pos_m(\"full\");\n",
    "m.s[:] *= MASS_IN_BOX/sum(m);\n",
    "\n",
    "rho = SharedArray(Complex64, (BOX_N,BOX_N,BOX_N));\n",
    "c = SharedArray(eltype(rho), length(m));\n",
    "to_rho!(pos,m, rho);\n",
    "\n",
    "rho_to_1st_order_vel_pot!(rho);\n",
    "\n",
    "a=1.0\n",
    "dim=1\n",
    "get_1st_order_comoving_vel!(c, a, dim, pos, rho)\n",
    "rvx = real(c);\n",
    "\n",
    "save_arr(rvx, \"linear/vx_real_1.gitignore\");\n",
    "\n",
    "first_order_vel_pot_to_sencond_order!(rho);\n",
    "\n",
    "get_2nd_order_comoving_vel!(c, a, dim, pos, rho);\n",
    "rvx = real(c);\n",
    "\n",
    "save_arr(rvx, \"linear/vx_real_2.gitignore\");"
   ]
  },
  {
   "cell_type": "code",
   "execution_count": 2,
   "metadata": {
    "collapsed": true
   },
   "outputs": [],
   "source": [
    "m.s[:] = MASS_IN_BOX/length(m);\n",
    "\n",
    "to_rho!(pos,m, rho);\n",
    "\n",
    "rho_to_1st_order_vel_pot!(rho);\n",
    "\n",
    "get_1st_order_comoving_vel!(c, a, dim, pos, rho)\n",
    "rvx = real(c);\n",
    "\n",
    "save_arr(rvx, \"linear/vx_eq_1.gitignore\");\n",
    "\n",
    "first_order_vel_pot_to_sencond_order!(rho);\n",
    "\n",
    "get_2nd_order_comoving_vel!(c, a, dim, pos, rho);\n",
    "rvx = real(c);\n",
    "\n",
    "save_arr(rvx, \"linear/vx_eq_2.gitignore\");"
   ]
  },
  {
   "cell_type": "code",
   "execution_count": null,
   "metadata": {
    "collapsed": true
   },
   "outputs": [],
   "source": []
  }
 ],
 "metadata": {
  "kernelspec": {
   "display_name": "Julia 0.4.1",
   "language": "julia",
   "name": "julia-0.4"
  },
  "language_info": {
   "file_extension": ".jl",
   "mimetype": "application/julia",
   "name": "julia",
   "version": "0.4.3"
  }
 },
 "nbformat": 4,
 "nbformat_minor": 0
}
